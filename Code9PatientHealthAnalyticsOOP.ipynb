{
 "cells": [
  {
   "cell_type": "code",
   "execution_count": 17,
   "id": "6f1ffb50",
   "metadata": {},
   "outputs": [],
   "source": [
    "class Patients: \n",
    "    def __init__(self, name, age, gender, blood_pressure, temperature):\n",
    "        self.name = name \n",
    "        self.age = age \n",
    "        self.gender = gender \n",
    "        self.blood_pressure = blood_pressure \n",
    "        self.temperature = temperature \n",
    "        \n",
    "    def display_patient_info(self): \n",
    "        print(f\"Name: {self.name}\\nAge: {self.age}\\nGender: {self.gender}\\nBlood Pressure: {self.blood_pressure[0]} / {self.blood_pressure[1]}\\nTemperature {self.temperature}\")\n",
    "        \n",
    "    def is_hypertensive(self): \n",
    "        systolic, diastolic = self.blood_pressure \n",
    "        return systolic >=140 or diastolic >= 90       \n",
    "              \n",
    "    def is_feverish(self):\n",
    "        return self.temperature >= 37.5 \n",
    "              \n",
    "              \n",
    "              "
   ]
  },
  {
   "cell_type": "code",
   "execution_count": 18,
   "id": "a15e6733",
   "metadata": {},
   "outputs": [],
   "source": [
    "# Defining data \n",
    "patient1 = Patients(\"John Doe\", 45, \"Male\", (140, 85), 36.8)\n",
    "patient2 = Patients (\"Jane Smith\", 32, \"Female\", (130,88), 37.6)"
   ]
  },
  {
   "cell_type": "code",
   "execution_count": 19,
   "id": "aec8e2e7",
   "metadata": {},
   "outputs": [
    {
     "name": "stdout",
     "output_type": "stream",
     "text": [
      "Name: John Doe\n",
      "Age: 45\n",
      "Gender: Male\n",
      "Blood Pressure: 140 / 85\n",
      "Temperature 36.8\n",
      "Name: Jane Smith\n",
      "Age: 32\n",
      "Gender: Female\n",
      "Blood Pressure: 130 / 88\n",
      "Temperature 37.6\n"
     ]
    }
   ],
   "source": [
    "#Display the patient information \n",
    "patient1.display_patient_info()\n",
    "patient2.display_patient_info()"
   ]
  },
  {
   "cell_type": "code",
   "execution_count": 20,
   "id": "c4b9441f",
   "metadata": {},
   "outputs": [
    {
     "data": {
      "text/plain": [
       "True"
      ]
     },
     "execution_count": 20,
     "metadata": {},
     "output_type": "execute_result"
    }
   ],
   "source": [
    "#Checking for hypertension for Patient 1 \n",
    "patient1.is_hypertensive()\n"
   ]
  },
  {
   "cell_type": "code",
   "execution_count": 21,
   "id": "afacec33",
   "metadata": {},
   "outputs": [
    {
     "data": {
      "text/plain": [
       "False"
      ]
     },
     "execution_count": 21,
     "metadata": {},
     "output_type": "execute_result"
    }
   ],
   "source": [
    "#Checking for fever for Patient 1 \n",
    "patient1.is_feverish()\n"
   ]
  },
  {
   "cell_type": "code",
   "execution_count": 22,
   "id": "891f5cb4",
   "metadata": {},
   "outputs": [
    {
     "data": {
      "text/plain": [
       "False"
      ]
     },
     "execution_count": 22,
     "metadata": {},
     "output_type": "execute_result"
    }
   ],
   "source": [
    "#Checking for hypertension for Patient 2 \n",
    "patient2.is_hypertensive()"
   ]
  },
  {
   "cell_type": "code",
   "execution_count": 23,
   "id": "5640d5b2",
   "metadata": {},
   "outputs": [
    {
     "data": {
      "text/plain": [
       "True"
      ]
     },
     "execution_count": 23,
     "metadata": {},
     "output_type": "execute_result"
    }
   ],
   "source": [
    "#Checking for fever for Patient 2 \n",
    "patient2.is_feverish()"
   ]
  },
  {
   "cell_type": "code",
   "execution_count": null,
   "id": "ea43b1a7",
   "metadata": {},
   "outputs": [],
   "source": []
  }
 ],
 "metadata": {
  "kernelspec": {
   "display_name": "Python 3 (ipykernel)",
   "language": "python",
   "name": "python3"
  },
  "language_info": {
   "codemirror_mode": {
    "name": "ipython",
    "version": 3
   },
   "file_extension": ".py",
   "mimetype": "text/x-python",
   "name": "python",
   "nbconvert_exporter": "python",
   "pygments_lexer": "ipython3",
   "version": "3.11.4"
  }
 },
 "nbformat": 4,
 "nbformat_minor": 5
}
